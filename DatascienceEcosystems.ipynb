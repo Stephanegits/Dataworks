{
 "cells": [
  {
   "cell_type": "markdown",
   "id": "9a886add-e9a4-4009-b98b-b8396c417690",
   "metadata": {},
   "source": [
    "# Data Science Tools and Ecosystem "
   ]
  },
  {
   "cell_type": "markdown",
   "id": "07ebcae9-4c58-443a-a54d-d2fab58a7bc6",
   "metadata": {},
   "source": [
    "In this notebook, Data Science Tools and Ecosystem are summarised."
   ]
  },
  {
   "cell_type": "markdown",
   "id": "88df7052-6df2-4eb3-8424-af54732bed05",
   "metadata": {},
   "source": [
    "**Objectives:**\n"
   ]
  },
  {
   "cell_type": "markdown",
   "id": "13c67dd1-77e1-490d-ab3a-16443c2e2e92",
   "metadata": {},
   "source": [
    "- Practice Arithmetic expressions\n",
    "- Using Markdwon Cells\n",
    "- Data Science Languages\n",
    "- Data Science Libraries"
   ]
  },
  {
   "cell_type": "markdown",
   "id": "8d21a7a8-bd82-427d-95ca-023b4809e656",
   "metadata": {},
   "source": [
    "Some of the popular languages that Data Scientists use are:\n",
    "1. Python\n",
    "2. R\n",
    "3. Julia"
   ]
  },
  {
   "cell_type": "markdown",
   "id": "fcceeb9e-df48-4d37-8e79-4d924cb106d1",
   "metadata": {},
   "source": [
    "Some of the commonly used libraries used by Data Scientists include:\n",
    "1. Matplotlib\n",
    "2. Pandas\n",
    "3. NumPy"
   ]
  },
  {
   "cell_type": "markdown",
   "id": "5c5a9199-09ff-4c67-8652-ae21c37238ea",
   "metadata": {},
   "source": [
    "Data Science Tools\n",
    "- - - -\n",
    "Apache Spark\n",
    "\n",
    "RStudio\n",
    "\n",
    "TensorFlow"
   ]
  },
  {
   "cell_type": "markdown",
   "id": "4278ffdb-bd85-4c03-9eed-c175289a82a6",
   "metadata": {},
   "source": [
    "### Below are a few examples of evaluating arithmetic expressions in python."
   ]
  },
  {
   "cell_type": "code",
   "execution_count": 3,
   "id": "0524ee8a-2bec-4a7a-a3bb-f059b8795dd9",
   "metadata": {},
   "outputs": [
    {
     "data": {
      "text/plain": [
       "17"
      ]
     },
     "execution_count": 3,
     "metadata": {},
     "output_type": "execute_result"
    }
   ],
   "source": [
    "(3*4)+5"
   ]
  },
  {
   "cell_type": "code",
   "execution_count": 16,
   "id": "286c2add-e253-453b-b53c-5229506ad712",
   "metadata": {},
   "outputs": [
    {
     "data": {
      "text/plain": [
       "3.3333333333333335"
      ]
     },
     "execution_count": 16,
     "metadata": {},
     "output_type": "execute_result"
    }
   ],
   "source": [
    "# This will convert 200 minutes to hours by dividing by 60\n",
    "200/60"
   ]
  },
  {
   "cell_type": "markdown",
   "id": "d2c4b1d2-8e29-4c98-b277-6b2a6d3987bf",
   "metadata": {},
   "source": [
    "## Author\n",
    "Stephane Ezimadu"
   ]
  },
  {
   "cell_type": "code",
   "execution_count": null,
   "id": "3d93ac6e-4275-4f0b-8896-5c0f79b8cbf5",
   "metadata": {},
   "outputs": [],
   "source": []
  }
 ],
 "metadata": {
  "kernelspec": {
   "display_name": "Python 3 (ipykernel)",
   "language": "python",
   "name": "python3"
  },
  "language_info": {
   "codemirror_mode": {
    "name": "ipython",
    "version": 3
   },
   "file_extension": ".py",
   "mimetype": "text/x-python",
   "name": "python",
   "nbconvert_exporter": "python",
   "pygments_lexer": "ipython3",
   "version": "3.12.7"
  }
 },
 "nbformat": 4,
 "nbformat_minor": 5
}
